{
 "cells": [
  {
   "cell_type": "code",
   "execution_count": null,
   "id": "e200e3c4",
   "metadata": {},
   "outputs": [],
   "source": [
    "# Simplest confusion matrix\n",
    "\n",
    "import pandas as pd\n",
    "from sklearn.metrics import accuracy_score, precision_score, recall_score\n",
    "\n",
    "data = {'y_actual':    [1, 0, 0, 1, 0, 1, 0, 0, 1, 0, 1, 0],\n",
    "        'y_predicted': [1, 1, 0, 1, 0, 1, 1, 0, 1, 0, 0, 0]\n",
    "        }\n",
    "\n",
    "df = pd.DataFrame(data)\n",
    "\n",
    "confusion_matrix = pd.crosstab(df['y_actual'], df['y_predicted'], rownames=['Actual'], colnames=['Predicted:'])\n",
    "print(confusion_matrix)\n",
    "\n",
    "print('\\nAccuracy: {:.2f}\\n'.format(accuracy_score(df['y_actual'], df['y_predicted'])))"
   ]
  },
  {
   "cell_type": "code",
   "execution_count": null,
   "id": "e97295c4",
   "metadata": {},
   "outputs": [],
   "source": [
    "# Simple confusion matrix\n",
    "\n",
    "import pandas as pd\n",
    "from sklearn.metrics import accuracy_score, precision_score, recall_score\n",
    "\n",
    "data = {'y_actual':    [1, 0, 0, 1, 0, 1, 0, 0, 1, 0, 1, 0, 2, 3, 2, 3, 4,\n",
    "                       4, 4, 5, 5, 5, 5, 6, 5, 6, 6, 7, 5, 7, 7, 8, 9, 9],\n",
    "        'y_predicted': [1, 1, 0, 1, 0, 1, 1, 0, 1, 0, 0, 0, 1, 3, 2, 2, 4,\n",
    "                       4, 5, 4, 5, 6, 6, 4, 7, 6, 6, 1, 5, 7, 7, 8, 9, 9]\n",
    "        }\n",
    "\n",
    "df = pd.DataFrame(data)\n",
    "\n",
    "confusion_matrix = pd.crosstab(df['y_actual'], df['y_predicted'], rownames=['Actual'], colnames=['Predicted:'])\n",
    "print(confusion_matrix)\n",
    "\n",
    "print('\\nAccuracy: {:.2f}\\n'.format(accuracy_score(df['y_actual'], df['y_predicted'])))"
   ]
  },
  {
   "cell_type": "code",
   "execution_count": null,
   "id": "6735e4fa",
   "metadata": {},
   "outputs": [],
   "source": []
  }
 ],
 "metadata": {
  "kernelspec": {
   "display_name": "Python 3 (ipykernel)",
   "language": "python",
   "name": "python3"
  },
  "language_info": {
   "codemirror_mode": {
    "name": "ipython",
    "version": 3
   },
   "file_extension": ".py",
   "mimetype": "text/x-python",
   "name": "python",
   "nbconvert_exporter": "python",
   "pygments_lexer": "ipython3",
   "version": "3.9.7"
  }
 },
 "nbformat": 4,
 "nbformat_minor": 5
}
