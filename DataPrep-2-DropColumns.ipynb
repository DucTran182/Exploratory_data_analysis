{
 "cells": [
  {
   "cell_type": "markdown",
   "id": "aa5fa4cf",
   "metadata": {},
   "source": [
    "<h2>Dropping Columns from a Dataframe<h2>"
   ]
  },
  {
   "cell_type": "code",
   "execution_count": 1,
   "id": "9f075092",
   "metadata": {},
   "outputs": [
    {
     "name": "stdout",
     "output_type": "stream",
     "text": [
      "Loading packages...Finished.\n"
     ]
    }
   ],
   "source": [
    "# 1.\n",
    "# Load the packages we will need.\n",
    "\n",
    "print(\"Loading packages...\", end = '')\n",
    "\n",
    "import numpy as np\n",
    "import pandas as pd\n",
    "import os\n",
    "\n",
    "print(\"Finished.\")"
   ]
  },
  {
   "cell_type": "code",
   "execution_count": 2,
   "id": "3dfc691c",
   "metadata": {},
   "outputs": [
    {
     "name": "stdout",
     "output_type": "stream",
     "text": [
      "Data files in the /Data directory:\n",
      "\n",
      ".ipynb_checkpoints\n",
      "CNN-FashionMNIST-Model4.ipynb\n",
      "CNN-Model4.ipynb\n",
      "ConfusionMatrix.ipynb\n",
      "DataPrep-1-Exploration.ipynb\n",
      "DataPrep-2-DropColumns(1).ipynb\n",
      "f-MNIST-testData-tool.ipynb\n",
      "fashion-mnist_test.csv\n",
      "fashion-mnist_train.csv\n",
      "Neural Network-Model1.ipynb\n",
      "Neural Network-Model2.ipynb\n",
      "Neural Network-Model3.ipynb\n",
      "nyc_collision_factors.csv\n",
      "sandal.jpg\n",
      "sandal_MNIST.jpg\n",
      "shorts.jpg\n",
      "shorts_MNIST.jpg\n",
      "sneaker.jpg\n",
      "sneaker_MNIST.jpg\n",
      "t10k-images-idx3-ubyte\n",
      "t10k-labels-idx1-ubyte\n",
      "top.jpg\n",
      "top_MNIST.jpg\n",
      "train-images-idx3-ubyte\n",
      "train-labels-idx1-ubyte\n",
      "Tshirt.jpg\n",
      "Tshirt_MNIST.jpg\n"
     ]
    }
   ],
   "source": [
    "# 2.\n",
    "# Show all .csv files (data files) in the Data directory\n",
    "\n",
    "print('Data files in the /Data directory:\\n')\n",
    "for x in os.listdir(r'C:\\Users\\weyen\\OneDrive\\Desktop\\deep'):\n",
    "    x.endswith('.csv')\n",
    "    print(x)"
   ]
  },
  {
   "cell_type": "code",
   "execution_count": 3,
   "id": "35c772af",
   "metadata": {},
   "outputs": [
    {
     "name": "stdout",
     "output_type": "stream",
     "text": [
      "Loading the dataset...\n",
      "Finished.\n"
     ]
    }
   ],
   "source": [
    "# 3. \n",
    "# Select a dataset to be loaded.  Copy-and-paste its name to the path below, as in 'Data/filename' \n",
    "# The data is loaded into a Python dataframe we will call df.  \n",
    "\n",
    "print(\"Loading the dataset...\")\n",
    "\n",
    "df=pd.read_csv('nyc_collision_factors.csv')\n",
    "#df=pd.read_csv('Data/nyc_collision_factors.csv', encoding = \"ISO-8859-1\")\n",
    "\n",
    "print(\"Finished.\")"
   ]
  },
  {
   "cell_type": "code",
   "execution_count": 4,
   "id": "a133f4cc",
   "metadata": {},
   "outputs": [
    {
     "data": {
      "text/html": [
       "<div>\n",
       "<style scoped>\n",
       "    .dataframe tbody tr th:only-of-type {\n",
       "        vertical-align: middle;\n",
       "    }\n",
       "\n",
       "    .dataframe tbody tr th {\n",
       "        vertical-align: top;\n",
       "    }\n",
       "\n",
       "    .dataframe thead th {\n",
       "        text-align: right;\n",
       "    }\n",
       "</style>\n",
       "<table border=\"1\" class=\"dataframe\">\n",
       "  <thead>\n",
       "    <tr style=\"text-align: right;\">\n",
       "      <th></th>\n",
       "      <th>DATE</th>\n",
       "      <th>TIME</th>\n",
       "      <th>BOROUGH</th>\n",
       "      <th>ZIP CODE</th>\n",
       "      <th>LATITUDE</th>\n",
       "      <th>LONGITUDE</th>\n",
       "      <th>LOCATION</th>\n",
       "      <th>ON STREET NAME</th>\n",
       "      <th>CROSS STREET NAME</th>\n",
       "      <th>OFF STREET NAME</th>\n",
       "      <th>...</th>\n",
       "      <th>CONTRIBUTING FACTOR VEHICLE 1</th>\n",
       "      <th>CONTRIBUTING FACTOR VEHICLE 2</th>\n",
       "      <th>CONTRIBUTING FACTOR VEHICLE 3</th>\n",
       "      <th>CONTRIBUTING FACTOR VEHICLE 4</th>\n",
       "      <th>CONTRIBUTING FACTOR VEHICLE 5</th>\n",
       "      <th>VEHICLE TYPE CODE 1</th>\n",
       "      <th>VEHICLE TYPE CODE 2</th>\n",
       "      <th>VEHICLE TYPE CODE 3</th>\n",
       "      <th>VEHICLE TYPE CODE 4</th>\n",
       "      <th>VEHICLE TYPE CODE 5</th>\n",
       "    </tr>\n",
       "  </thead>\n",
       "  <tbody>\n",
       "    <tr>\n",
       "      <th>0</th>\n",
       "      <td>11/10/2016</td>\n",
       "      <td>16:11:00</td>\n",
       "      <td>BROOKLYN</td>\n",
       "      <td>11208.0</td>\n",
       "      <td>40.662514</td>\n",
       "      <td>-73.872007</td>\n",
       "      <td>(40.6625139, -73.8720068)</td>\n",
       "      <td>WORTMAN AVENUE</td>\n",
       "      <td>MONTAUK AVENUE</td>\n",
       "      <td>NaN</td>\n",
       "      <td>...</td>\n",
       "      <td>Failure to Yield Right-of-Way</td>\n",
       "      <td>Unspecified</td>\n",
       "      <td>NaN</td>\n",
       "      <td>NaN</td>\n",
       "      <td>NaN</td>\n",
       "      <td>TAXI</td>\n",
       "      <td>PASSENGER VEHICLE</td>\n",
       "      <td>NaN</td>\n",
       "      <td>NaN</td>\n",
       "      <td>NaN</td>\n",
       "    </tr>\n",
       "    <tr>\n",
       "      <th>1</th>\n",
       "      <td>11/10/2016</td>\n",
       "      <td>05:11:00</td>\n",
       "      <td>MANHATTAN</td>\n",
       "      <td>10013.0</td>\n",
       "      <td>40.721323</td>\n",
       "      <td>-74.008344</td>\n",
       "      <td>(40.7213228, -74.0083444)</td>\n",
       "      <td>HUBERT STREET</td>\n",
       "      <td>HUDSON STREET</td>\n",
       "      <td>NaN</td>\n",
       "      <td>...</td>\n",
       "      <td>Failure to Yield Right-of-Way</td>\n",
       "      <td>NaN</td>\n",
       "      <td>NaN</td>\n",
       "      <td>NaN</td>\n",
       "      <td>NaN</td>\n",
       "      <td>PASSENGER VEHICLE</td>\n",
       "      <td>NaN</td>\n",
       "      <td>NaN</td>\n",
       "      <td>NaN</td>\n",
       "      <td>NaN</td>\n",
       "    </tr>\n",
       "    <tr>\n",
       "      <th>2</th>\n",
       "      <td>04/16/2016</td>\n",
       "      <td>09:15:00</td>\n",
       "      <td>BROOKLYN</td>\n",
       "      <td>11201.0</td>\n",
       "      <td>40.687999</td>\n",
       "      <td>-73.997563</td>\n",
       "      <td>(40.6879989, -73.9975625)</td>\n",
       "      <td>HENRY STREET</td>\n",
       "      <td>WARREN STREET</td>\n",
       "      <td>NaN</td>\n",
       "      <td>...</td>\n",
       "      <td>Lost Consciousness</td>\n",
       "      <td>Lost Consciousness</td>\n",
       "      <td>NaN</td>\n",
       "      <td>NaN</td>\n",
       "      <td>NaN</td>\n",
       "      <td>PASSENGER VEHICLE</td>\n",
       "      <td>VAN</td>\n",
       "      <td>NaN</td>\n",
       "      <td>NaN</td>\n",
       "      <td>NaN</td>\n",
       "    </tr>\n",
       "    <tr>\n",
       "      <th>3</th>\n",
       "      <td>04/15/2016</td>\n",
       "      <td>10:20:00</td>\n",
       "      <td>QUEENS</td>\n",
       "      <td>11375.0</td>\n",
       "      <td>40.719228</td>\n",
       "      <td>-73.854542</td>\n",
       "      <td>(40.7192276, -73.8545422)</td>\n",
       "      <td>NaN</td>\n",
       "      <td>NaN</td>\n",
       "      <td>67-64 FLEET STREET</td>\n",
       "      <td>...</td>\n",
       "      <td>Failure to Yield Right-of-Way</td>\n",
       "      <td>Failure to Yield Right-of-Way</td>\n",
       "      <td>Failure to Yield Right-of-Way</td>\n",
       "      <td>NaN</td>\n",
       "      <td>NaN</td>\n",
       "      <td>PASSENGER VEHICLE</td>\n",
       "      <td>PASSENGER VEHICLE</td>\n",
       "      <td>PASSENGER VEHICLE</td>\n",
       "      <td>NaN</td>\n",
       "      <td>NaN</td>\n",
       "    </tr>\n",
       "    <tr>\n",
       "      <th>4</th>\n",
       "      <td>04/15/2016</td>\n",
       "      <td>10:35:00</td>\n",
       "      <td>BROOKLYN</td>\n",
       "      <td>11210.0</td>\n",
       "      <td>40.632147</td>\n",
       "      <td>-73.952731</td>\n",
       "      <td>(40.6321467, -73.9527315)</td>\n",
       "      <td>BEDFORD AVENUE</td>\n",
       "      <td>CAMPUS ROAD</td>\n",
       "      <td>NaN</td>\n",
       "      <td>...</td>\n",
       "      <td>Failure to Yield Right-of-Way</td>\n",
       "      <td>Failure to Yield Right-of-Way</td>\n",
       "      <td>NaN</td>\n",
       "      <td>NaN</td>\n",
       "      <td>NaN</td>\n",
       "      <td>PASSENGER VEHICLE</td>\n",
       "      <td>PASSENGER VEHICLE</td>\n",
       "      <td>NaN</td>\n",
       "      <td>NaN</td>\n",
       "      <td>NaN</td>\n",
       "    </tr>\n",
       "  </tbody>\n",
       "</table>\n",
       "<p>5 rows × 26 columns</p>\n",
       "</div>"
      ],
      "text/plain": [
       "         DATE      TIME    BOROUGH  ZIP CODE   LATITUDE  LONGITUDE  \\\n",
       "0  11/10/2016  16:11:00   BROOKLYN   11208.0  40.662514 -73.872007   \n",
       "1  11/10/2016  05:11:00  MANHATTAN   10013.0  40.721323 -74.008344   \n",
       "2  04/16/2016  09:15:00   BROOKLYN   11201.0  40.687999 -73.997563   \n",
       "3  04/15/2016  10:20:00     QUEENS   11375.0  40.719228 -73.854542   \n",
       "4  04/15/2016  10:35:00   BROOKLYN   11210.0  40.632147 -73.952731   \n",
       "\n",
       "                    LOCATION  ON STREET NAME CROSS STREET NAME  \\\n",
       "0  (40.6625139, -73.8720068)  WORTMAN AVENUE    MONTAUK AVENUE   \n",
       "1  (40.7213228, -74.0083444)   HUBERT STREET     HUDSON STREET   \n",
       "2  (40.6879989, -73.9975625)    HENRY STREET     WARREN STREET   \n",
       "3  (40.7192276, -73.8545422)             NaN               NaN   \n",
       "4  (40.6321467, -73.9527315)  BEDFORD AVENUE       CAMPUS ROAD   \n",
       "\n",
       "      OFF STREET NAME  ...  CONTRIBUTING FACTOR VEHICLE 1  \\\n",
       "0                 NaN  ...  Failure to Yield Right-of-Way   \n",
       "1                 NaN  ...  Failure to Yield Right-of-Way   \n",
       "2                 NaN  ...             Lost Consciousness   \n",
       "3  67-64 FLEET STREET  ...  Failure to Yield Right-of-Way   \n",
       "4                 NaN  ...  Failure to Yield Right-of-Way   \n",
       "\n",
       "   CONTRIBUTING FACTOR VEHICLE 2  CONTRIBUTING FACTOR VEHICLE 3  \\\n",
       "0                    Unspecified                            NaN   \n",
       "1                            NaN                            NaN   \n",
       "2             Lost Consciousness                            NaN   \n",
       "3  Failure to Yield Right-of-Way  Failure to Yield Right-of-Way   \n",
       "4  Failure to Yield Right-of-Way                            NaN   \n",
       "\n",
       "   CONTRIBUTING FACTOR VEHICLE 4  CONTRIBUTING FACTOR VEHICLE 5  \\\n",
       "0                            NaN                            NaN   \n",
       "1                            NaN                            NaN   \n",
       "2                            NaN                            NaN   \n",
       "3                            NaN                            NaN   \n",
       "4                            NaN                            NaN   \n",
       "\n",
       "   VEHICLE TYPE CODE 1 VEHICLE TYPE CODE 2 VEHICLE TYPE CODE 3  \\\n",
       "0                 TAXI   PASSENGER VEHICLE                 NaN   \n",
       "1    PASSENGER VEHICLE                 NaN                 NaN   \n",
       "2    PASSENGER VEHICLE                 VAN                 NaN   \n",
       "3    PASSENGER VEHICLE   PASSENGER VEHICLE   PASSENGER VEHICLE   \n",
       "4    PASSENGER VEHICLE   PASSENGER VEHICLE                 NaN   \n",
       "\n",
       "  VEHICLE TYPE CODE 4 VEHICLE TYPE CODE 5  \n",
       "0                 NaN                 NaN  \n",
       "1                 NaN                 NaN  \n",
       "2                 NaN                 NaN  \n",
       "3                 NaN                 NaN  \n",
       "4                 NaN                 NaN  \n",
       "\n",
       "[5 rows x 26 columns]"
      ]
     },
     "execution_count": 4,
     "metadata": {},
     "output_type": "execute_result"
    }
   ],
   "source": [
    "#  4.\n",
    "#  Print the first few rows of the df data frame.\n",
    "\n",
    "df.head()"
   ]
  },
  {
   "cell_type": "code",
   "execution_count": 5,
   "id": "94a1624f",
   "metadata": {},
   "outputs": [
    {
     "name": "stdout",
     "output_type": "stream",
     "text": [
      "Index(['DATE', 'TIME', 'BOROUGH', 'ZIP CODE', 'LATITUDE', 'LONGITUDE',\n",
      "       'LOCATION', 'ON STREET NAME', 'CROSS STREET NAME', 'OFF STREET NAME',\n",
      "       'NUMBER OF PERSONS INJURED', 'NUMBER OF PERSONS KILLED',\n",
      "       'NUMBER OF PEDESTRIANS INJURED', 'NUMBER OF PEDESTRIANS KILLED',\n",
      "       'NUMBER OF CYCLISTS INJURED', 'NUMBER OF CYCLISTS KILLED',\n",
      "       'CONTRIBUTING FACTOR VEHICLE 1', 'CONTRIBUTING FACTOR VEHICLE 2',\n",
      "       'CONTRIBUTING FACTOR VEHICLE 3', 'CONTRIBUTING FACTOR VEHICLE 4',\n",
      "       'CONTRIBUTING FACTOR VEHICLE 5', 'VEHICLE TYPE CODE 1',\n",
      "       'VEHICLE TYPE CODE 2', 'VEHICLE TYPE CODE 3', 'VEHICLE TYPE CODE 4',\n",
      "       'VEHICLE TYPE CODE 5'],\n",
      "      dtype='object')\n"
     ]
    }
   ],
   "source": [
    "#  5.\n",
    "#  Get the data features (column names).\n",
    "\n",
    "features = df.columns\n",
    "features = features[0:len(df.columns)]\n",
    "print(features)"
   ]
  },
  {
   "cell_type": "code",
   "execution_count": 6,
   "id": "9c68c898",
   "metadata": {},
   "outputs": [
    {
     "name": "stdout",
     "output_type": "stream",
     "text": [
      "['WORTMAN AVENUE' 'HUBERT STREET' 'HENRY STREET' ... '147 PLACE'\n",
      " 'CARROLL STREET' 'ANDREWS AVENUE']\n",
      "1672\n"
     ]
    }
   ],
   "source": [
    "#  6.\n",
    "#  To see all the data values in a column, copy-and-paste the column name\n",
    "#  in the first line below and run this cell.\n",
    "#  The task is to decide which of these columns provide the best data\n",
    "#  and should be kept.  Delete the other columns.\n",
    "\n",
    "dclass = df['ON STREET NAME']\n",
    "dclass = dclass.unique()\n",
    "print(dclass)\n",
    "print(len(dclass))"
   ]
  },
  {
   "cell_type": "code",
   "execution_count": 21,
   "id": "715f875c",
   "metadata": {},
   "outputs": [
    {
     "name": "stdout",
     "output_type": "stream",
     "text": [
      "Index(['DATE', 'TIME', 'BOROUGH', 'LOCATION', 'ON STREET NAME',\n",
      "       'CROSS STREET NAME', 'NUMBER OF PERSONS INJURED',\n",
      "       'NUMBER OF PERSONS KILLED', 'NUMBER OF PEDESTRIANS INJURED',\n",
      "       'NUMBER OF PEDESTRIANS KILLED', 'CONTRIBUTING FACTOR VEHICLE 1',\n",
      "       'CONTRIBUTING FACTOR VEHICLE 2'],\n",
      "      dtype='object')\n"
     ]
    }
   ],
   "source": [
    "#  6.\n",
    "# Designate which columns to drop from the data frame.  Run this code \n",
    "# using different column names until satisfied.\n",
    "\n",
    "df = df.drop(['ZIP CODE'], axis = 1)\n",
    "\n",
    "features = df.columns\n",
    "features = features[0:len(df.columns)]\n",
    "print(features)"
   ]
  },
  {
   "cell_type": "markdown",
   "id": "be037ae9",
   "metadata": {},
   "source": [
    "<h4>After dropping the columns you want to eliminate, save your dataframe\n",
    "to a new .csv file.  Be sure to use a new version name!</h4>"
   ]
  },
  {
   "cell_type": "code",
   "execution_count": 22,
   "id": "4aafe001",
   "metadata": {},
   "outputs": [
    {
     "name": "stdout",
     "output_type": "stream",
     "text": [
      "Saving the dataset with columns dropped...\n",
      "Finished.\n"
     ]
    }
   ],
   "source": [
    "#  7.\n",
    "# We've now one hot-encoded all of our data that was categorical.  let's save the file to a new name so we, \n",
    "# as before, preserve the original data while giving us a new file with which to work.  This new file will be \n",
    "# the one we will load and use to train and test our models.  Here I've added the abbreviation \"dev\" so it is \n",
    "# clear that we will be using it for our model development work.\n",
    "\n",
    "print(\"Saving the dataset with columns dropped...\")\n",
    "\n",
    "df.to_csv('nyc-dropped-columns.csv', index = False)\n",
    "\n",
    "print(\"Finished.\")"
   ]
  },
  {
   "cell_type": "code",
   "execution_count": null,
   "id": "1e03d55b",
   "metadata": {},
   "outputs": [],
   "source": []
  }
 ],
 "metadata": {
  "kernelspec": {
   "display_name": "Python 3 (ipykernel)",
   "language": "python",
   "name": "python3"
  },
  "language_info": {
   "codemirror_mode": {
    "name": "ipython",
    "version": 3
   },
   "file_extension": ".py",
   "mimetype": "text/x-python",
   "name": "python",
   "nbconvert_exporter": "python",
   "pygments_lexer": "ipython3",
   "version": "3.9.7"
  }
 },
 "nbformat": 4,
 "nbformat_minor": 5
}
